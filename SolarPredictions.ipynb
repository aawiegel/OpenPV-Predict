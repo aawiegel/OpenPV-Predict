{
 "cells": [
  {
   "cell_type": "markdown",
   "metadata": {},
   "source": [
    "# Introduction\n",
    "\n",
    "This notebook uses data from the (OpenPV project)[https://openpv.nrel.gov/] and the US Census to make predictions about what economic and demographic characteristics lead to installation of solar panels. The data used here has been preprocessed before use.\n",
    "\n",
    "The data is first loaded in, and descriptive statistics are calculated."
   ]
  },
  {
   "cell_type": "code",
   "execution_count": 21,
   "metadata": {
    "collapsed": true
   },
   "outputs": [],
   "source": [
    "# Import needed modules\n",
    "\n",
    "import pandas as pd\n",
    "import numpy as np\n",
    "import matplotlib.pyplot as plt\n",
    "import seaborn as sns\n",
    "import os\n",
    "\n"
   ]
  },
  {
   "cell_type": "code",
   "execution_count": 139,
   "metadata": {
    "collapsed": true
   },
   "outputs": [],
   "source": [
    "# Create OS independent file name\n",
    "\n",
    "subdir = os.path.join(os.path.curdir, \"data\")\n",
    "\n",
    "file_path = os.path.join(subdir, \"combined_data.csv\")\n",
    "\n",
    "# Read file\n",
    "solar_data = pd.read_csv(file_path)"
   ]
  },
  {
   "cell_type": "code",
   "execution_count": 140,
   "metadata": {
    "collapsed": false
   },
   "outputs": [
    {
     "name": "stdout",
     "output_type": "stream",
     "text": [
      "<class 'pandas.core.frame.DataFrame'>\n",
      "Int64Index: 584 entries, 0 to 585\n",
      "Data columns (total 8 columns):\n",
      "combined                   584 non-null object\n",
      "Capacity per capita        584 non-null float64\n",
      "GOP Vote Share             584 non-null float64\n",
      "Median Age                 584 non-null float64\n",
      "Percent White              584 non-null float64\n",
      "Percent Bachelors          584 non-null float64\n",
      "Median Household Income    584 non-null int64\n",
      "Median House Price         584 non-null int64\n",
      "dtypes: float64(5), int64(2), object(1)\n",
      "memory usage: 41.1+ KB\n"
     ]
    }
   ],
   "source": [
    "# Normalize solar capacity by population\n",
    "\n",
    "solar_data['Capacity per capita'] = solar_data['size_kw'] / solar_data['Population']\n",
    "solar_data['Percent White'] = solar_data['White Population'] / solar_data['Population']\n",
    "solar_data['Percent Bachelors'] = solar_data['Bachelors Degree'] / solar_data['Population']\n",
    "\n",
    "# Filter data for desired variables\n",
    "\n",
    "solar_data = solar_data.filter(['combined', 'Capacity per capita', 'per_gop',\n",
    "                                'Median Age', 'Percent White', 'Percent Bachelors',\n",
    "                                'Median Household Income', 'Median House Price'])\n",
    "\n",
    "solar_data = solar_data.rename(columns={'size_kw' : 'Total Capacity', 'per_gop' : 'GOP Vote Share'})\n",
    "\n",
    "solar_data = solar_data.loc[solar_data['Percent Bachelors'].isnull() == False, :]\n",
    "\n",
    "solar_data.info()\n"
   ]
  },
  {
   "cell_type": "code",
   "execution_count": 141,
   "metadata": {
    "collapsed": false
   },
   "outputs": [
    {
     "data": {
      "text/html": [
       "<div>\n",
       "<table border=\"1\" class=\"dataframe\">\n",
       "  <thead>\n",
       "    <tr style=\"text-align: right;\">\n",
       "      <th></th>\n",
       "      <th>Capacity per capita</th>\n",
       "      <th>GOP Vote Share</th>\n",
       "      <th>Median Age</th>\n",
       "      <th>Percent White</th>\n",
       "      <th>Percent Bachelors</th>\n",
       "      <th>Median Household Income</th>\n",
       "      <th>Median House Price</th>\n",
       "    </tr>\n",
       "  </thead>\n",
       "  <tbody>\n",
       "    <tr>\n",
       "      <th>count</th>\n",
       "      <td>584.000000</td>\n",
       "      <td>584.000000</td>\n",
       "      <td>584.000000</td>\n",
       "      <td>584.000000</td>\n",
       "      <td>584.000000</td>\n",
       "      <td>584.000000</td>\n",
       "      <td>584.000000</td>\n",
       "    </tr>\n",
       "    <tr>\n",
       "      <th>mean</th>\n",
       "      <td>0.015293</td>\n",
       "      <td>0.506255</td>\n",
       "      <td>38.874658</td>\n",
       "      <td>0.795580</td>\n",
       "      <td>0.123813</td>\n",
       "      <td>57843.811644</td>\n",
       "      <td>213174.486301</td>\n",
       "    </tr>\n",
       "    <tr>\n",
       "      <th>std</th>\n",
       "      <td>0.033441</td>\n",
       "      <td>0.151701</td>\n",
       "      <td>4.802991</td>\n",
       "      <td>0.143756</td>\n",
       "      <td>0.040202</td>\n",
       "      <td>14919.043904</td>\n",
       "      <td>122024.804791</td>\n",
       "    </tr>\n",
       "    <tr>\n",
       "      <th>min</th>\n",
       "      <td>0.000001</td>\n",
       "      <td>0.041221</td>\n",
       "      <td>24.500000</td>\n",
       "      <td>0.164846</td>\n",
       "      <td>0.030531</td>\n",
       "      <td>28212.000000</td>\n",
       "      <td>55000.000000</td>\n",
       "    </tr>\n",
       "    <tr>\n",
       "      <th>25%</th>\n",
       "      <td>0.000100</td>\n",
       "      <td>0.411655</td>\n",
       "      <td>36.000000</td>\n",
       "      <td>0.732477</td>\n",
       "      <td>0.094141</td>\n",
       "      <td>47699.750000</td>\n",
       "      <td>139125.000000</td>\n",
       "    </tr>\n",
       "    <tr>\n",
       "      <th>50%</th>\n",
       "      <td>0.000662</td>\n",
       "      <td>0.518660</td>\n",
       "      <td>38.600000</td>\n",
       "      <td>0.833263</td>\n",
       "      <td>0.121991</td>\n",
       "      <td>54457.000000</td>\n",
       "      <td>174700.000000</td>\n",
       "    </tr>\n",
       "    <tr>\n",
       "      <th>75%</th>\n",
       "      <td>0.010501</td>\n",
       "      <td>0.622132</td>\n",
       "      <td>41.500000</td>\n",
       "      <td>0.900500</td>\n",
       "      <td>0.146977</td>\n",
       "      <td>64586.750000</td>\n",
       "      <td>244500.000000</td>\n",
       "    </tr>\n",
       "    <tr>\n",
       "      <th>max</th>\n",
       "      <td>0.208651</td>\n",
       "      <td>0.878105</td>\n",
       "      <td>66.500000</td>\n",
       "      <td>0.979318</td>\n",
       "      <td>0.262558</td>\n",
       "      <td>125003.000000</td>\n",
       "      <td>941400.000000</td>\n",
       "    </tr>\n",
       "  </tbody>\n",
       "</table>\n",
       "</div>"
      ],
      "text/plain": [
       "       Capacity per capita  GOP Vote Share  Median Age  Percent White  \\\n",
       "count           584.000000      584.000000  584.000000     584.000000   \n",
       "mean              0.015293        0.506255   38.874658       0.795580   \n",
       "std               0.033441        0.151701    4.802991       0.143756   \n",
       "min               0.000001        0.041221   24.500000       0.164846   \n",
       "25%               0.000100        0.411655   36.000000       0.732477   \n",
       "50%               0.000662        0.518660   38.600000       0.833263   \n",
       "75%               0.010501        0.622132   41.500000       0.900500   \n",
       "max               0.208651        0.878105   66.500000       0.979318   \n",
       "\n",
       "       Percent Bachelors  Median Household Income  Median House Price  \n",
       "count         584.000000               584.000000          584.000000  \n",
       "mean            0.123813             57843.811644       213174.486301  \n",
       "std             0.040202             14919.043904       122024.804791  \n",
       "min             0.030531             28212.000000        55000.000000  \n",
       "25%             0.094141             47699.750000       139125.000000  \n",
       "50%             0.121991             54457.000000       174700.000000  \n",
       "75%             0.146977             64586.750000       244500.000000  \n",
       "max             0.262558            125003.000000       941400.000000  "
      ]
     },
     "execution_count": 141,
     "metadata": {},
     "output_type": "execute_result"
    }
   ],
   "source": [
    "solar_data.describe()"
   ]
  },
  {
   "cell_type": "code",
   "execution_count": 142,
   "metadata": {
    "collapsed": false
   },
   "outputs": [
    {
     "data": {
      "text/plain": [
       "<matplotlib.axes._subplots.AxesSubplot at 0x1df270bb1d0>"
      ]
     },
     "execution_count": 142,
     "metadata": {},
     "output_type": "execute_result"
    },
    {
     "data": {
      "image/png": "[encoded data removed]",
      "text/plain": [
       "<matplotlib.figure.Figure at 0x1df26f15ba8>"
      ]
     },
     "metadata": {},
     "output_type": "display_data"
    }
   ],
   "source": [
    "%matplotlib inline\n",
    "\n",
    "sns.heatmap(solar_data.corr(), square=True, cmap='RdYlBu')"
   ]
  },
  {
   "cell_type": "markdown",
   "metadata": {},
   "source": [
    "The GOP vote share in the 2016 Presidential Election, Median Age, Percentage of White People, Median Household income, and Median House Price are used as variables to predict solar capacity per capita. The heatmap above shows that each of the variables are highly intercorrelated with each other. \n",
    "\n",
    "## Machine learning with regression\n",
    "\n",
    "We use the variables with machine learning in scikit-learn to find what predicts solar capacity. Since some of the variables are intercorrelated, we use regularized regression. "
   ]
  },
  {
   "cell_type": "code",
   "execution_count": 143,
   "metadata": {
    "collapsed": false
   },
   "outputs": [
    {
     "name": "stdout",
     "output_type": "stream",
     "text": [
      "Tuned ElasticNet Alpha 6.380462749088242e-05\n",
      "Tuned ElasticNet l1 ratio 0.01695898305084746\n",
      "Tuned R squared 0.18461041526300404\n"
     ]
    }
   ],
   "source": [
    "from sklearn import model_selection\n",
    "from sklearn import linear_model\n",
    "\n",
    "\n",
    "# Split data into dependent and independent variables.\n",
    "y = solar_data[\"Capacity per capita\"].values\n",
    "X = solar_data.drop([\"Capacity per capita\", \"combined\"], axis = 1).values\n",
    "\n",
    "# Pick l1 ratio hyperparameter space\n",
    "\n",
    "l1_space = np.linspace(0.00001, 1, 60)\n",
    "\n",
    "# Setup cross validation and parameter search\n",
    "elastic = linear_model.ElasticNetCV(l1_ratio = l1_space,\n",
    "                                    normalize = True, cv = 10)\n",
    "\n",
    "# Create train and test sets\n",
    "X_train, X_test, y_train, y_test = model_selection.train_test_split(X, y, test_size = 0.3, random_state = 21)\n",
    "\n",
    "# Fit to the training set\n",
    "\n",
    "elastic.fit(X_train, y_train)\n",
    "\n",
    "# Check linear regression R^2\n",
    "\n",
    "r2 = elastic.score(X_test, y_test)\n",
    "\n",
    "print(\"Tuned ElasticNet Alpha {}\".format(elastic.alpha_))\n",
    "print(\"Tuned ElasticNet l1 ratio {}\".format(elastic.l1_ratio_))\n",
    "print(\"Tuned R squared {}\".format(r2))\n",
    "\n"
   ]
  },
  {
   "cell_type": "code",
   "execution_count": 144,
   "metadata": {
    "collapsed": false
   },
   "outputs": [
    {
     "data": {
      "text/plain": [
       "<matplotlib.text.Text at 0x1df25afa7f0>"
      ]
     },
     "execution_count": 144,
     "metadata": {},
     "output_type": "execute_result"
    },
    {
     "data": {
      "image/png": "[encoded data removed]",
      "text/plain": [
       "<matplotlib.figure.Figure at 0x1df256d9048>"
      ]
     },
     "metadata": {},
     "output_type": "display_data"
    }
   ],
   "source": [
    "%matplotlib inline\n",
    "\n",
    "elastic_coef = elastic.coef_\n",
    "\n",
    "predictors = solar_data.drop([\"Capacity per capita\", \"combined\"], axis = 1).columns\n",
    "\n",
    "plt.plot(range(len(predictors)), elastic_coef)\n",
    "plt.xticks(range(len(predictors)), predictors.values, rotation = 60)\n",
    "plt.ylabel(\"Coefficient\")"
   ]
  },
  {
   "cell_type": "code",
   "execution_count": 145,
   "metadata": {
    "collapsed": false
   },
   "outputs": [
    {
     "data": {
      "text/plain": [
       "<matplotlib.axes._subplots.AxesSubplot at 0x1df25afb710>"
      ]
     },
     "execution_count": 145,
     "metadata": {},
     "output_type": "execute_result"
    },
    {
     "data": {
      "image/png": "[encoded data removed]",
      "text/plain": [
       "<matplotlib.figure.Figure at 0x1df256d9e80>"
      ]
     },
     "metadata": {},
     "output_type": "display_data"
    }
   ],
   "source": [
    "%matplotlib inline\n",
    "fig, ax = plt.subplots(1)\n",
    "\n",
    "solar_data.plot.scatter(x = 'Percent Bachelors', y = 'Capacity per capita', ax = ax)"
   ]
  },
  {
   "cell_type": "code",
   "execution_count": 146,
   "metadata": {
    "collapsed": false
   },
   "outputs": [
    {
     "name": "stdout",
     "output_type": "stream",
     "text": [
      "[ -3.54717419e-02   5.87766627e-04   2.25825626e-02  -2.83869492e-01\n",
      "  -5.91164547e-08   1.72012363e-07]\n"
     ]
    }
   ],
   "source": [
    "print(elastic_coef)"
   ]
  },
  {
   "cell_type": "code",
   "execution_count": null,
   "metadata": {
    "collapsed": true
   },
   "outputs": [],
   "source": []
  }
 ],
 "metadata": {
  "kernelspec": {
   "display_name": "Python 3",
   "language": "python",
   "name": "python3"
  },
  "language_info": {
   "codemirror_mode": {
    "name": "ipython",
    "version": 3
   },
   "file_extension": ".py",
   "mimetype": "text/x-python",
   "name": "python",
   "nbconvert_exporter": "python",
   "pygments_lexer": "ipython3",
   "version": "3.6.0"
  }
 },
 "nbformat": 4,
 "nbformat_minor": 2
}
